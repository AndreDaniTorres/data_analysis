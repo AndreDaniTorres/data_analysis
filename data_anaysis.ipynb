{
 "cells": [
  {
   "cell_type": "code",
   "execution_count": 1,
   "metadata": {},
   "outputs": [],
   "source": [
    "import pandas as pd\n",
    "import matplotlib.pyplot as plt\n",
    "from datetime import timedelta, date, datetime\n",
    "from scipy.stats import gaussian_kde\n",
    "from sklearn.linear_model import LinearRegression\n",
    "from scipy import stats\n",
    "from scipy.stats import ttest_rel"
   ]
  },
  {
   "cell_type": "code",
   "execution_count": 6,
   "metadata": {},
   "outputs": [
    {
     "data": {
      "text/html": [
       "<div>\n",
       "<style scoped>\n",
       "    .dataframe tbody tr th:only-of-type {\n",
       "        vertical-align: middle;\n",
       "    }\n",
       "\n",
       "    .dataframe tbody tr th {\n",
       "        vertical-align: top;\n",
       "    }\n",
       "\n",
       "    .dataframe thead th {\n",
       "        text-align: right;\n",
       "    }\n",
       "</style>\n",
       "<table border=\"1\" class=\"dataframe\">\n",
       "  <thead>\n",
       "    <tr style=\"text-align: right;\">\n",
       "      <th></th>\n",
       "      <th>TABLA</th>\n",
       "      <th>TRADE_DATE_BEGIN</th>\n",
       "      <th>TRADE_DATE_END</th>\n",
       "      <th>MODIFIED_DATE</th>\n",
       "      <th>VAL001</th>\n",
       "      <th>VAL002</th>\n",
       "      <th>VAL003</th>\n",
       "      <th>VAL004</th>\n",
       "      <th>VAL005</th>\n",
       "      <th>VAL006</th>\n",
       "      <th>...</th>\n",
       "      <th>VAL015</th>\n",
       "      <th>VAL016</th>\n",
       "      <th>VAL017</th>\n",
       "      <th>VAL018</th>\n",
       "      <th>VAL019</th>\n",
       "      <th>VAL020</th>\n",
       "      <th>VAL021</th>\n",
       "      <th>VAL022</th>\n",
       "      <th>VAL023</th>\n",
       "      <th>VAL024</th>\n",
       "    </tr>\n",
       "    <tr>\n",
       "      <th>VARIABLE_NAME</th>\n",
       "      <th></th>\n",
       "      <th></th>\n",
       "      <th></th>\n",
       "      <th></th>\n",
       "      <th></th>\n",
       "      <th></th>\n",
       "      <th></th>\n",
       "      <th></th>\n",
       "      <th></th>\n",
       "      <th></th>\n",
       "      <th></th>\n",
       "      <th></th>\n",
       "      <th></th>\n",
       "      <th></th>\n",
       "      <th></th>\n",
       "      <th></th>\n",
       "      <th></th>\n",
       "      <th></th>\n",
       "      <th></th>\n",
       "      <th></th>\n",
       "      <th></th>\n",
       "    </tr>\n",
       "  </thead>\n",
       "  <tbody>\n",
       "    <tr>\n",
       "      <th>GReal_TG_TRGC_E_DC_m</th>\n",
       "      <td>CALCULATION_OUTPUT_DATA</td>\n",
       "      <td>2020-08-01</td>\n",
       "      <td>2020-08-31</td>\n",
       "      <td>2021-07-14 16:58:47</td>\n",
       "      <td>5.294906e+09</td>\n",
       "      <td>0</td>\n",
       "      <td>0</td>\n",
       "      <td>0</td>\n",
       "      <td>0</td>\n",
       "      <td>0</td>\n",
       "      <td>...</td>\n",
       "      <td>0</td>\n",
       "      <td>0</td>\n",
       "      <td>0</td>\n",
       "      <td>0</td>\n",
       "      <td>0</td>\n",
       "      <td>0</td>\n",
       "      <td>0</td>\n",
       "      <td>0</td>\n",
       "      <td>0</td>\n",
       "      <td>0</td>\n",
       "    </tr>\n",
       "  </tbody>\n",
       "</table>\n",
       "<p>1 rows × 28 columns</p>\n",
       "</div>"
      ],
      "text/plain": [
       "                                        TABLA TRADE_DATE_BEGIN TRADE_DATE_END  \\\n",
       "VARIABLE_NAME                                                                   \n",
       "GReal_TG_TRGC_E_DC_m  CALCULATION_OUTPUT_DATA       2020-08-01     2020-08-31   \n",
       "\n",
       "                           MODIFIED_DATE        VAL001  VAL002  VAL003  \\\n",
       "VARIABLE_NAME                                                            \n",
       "GReal_TG_TRGC_E_DC_m 2021-07-14 16:58:47  5.294906e+09       0       0   \n",
       "\n",
       "                      VAL004  VAL005  VAL006  ...  VAL015  VAL016  VAL017  \\\n",
       "VARIABLE_NAME                                 ...                           \n",
       "GReal_TG_TRGC_E_DC_m       0       0       0  ...       0       0       0   \n",
       "\n",
       "                      VAL018  VAL019  VAL020  VAL021  VAL022  VAL023  VAL024  \n",
       "VARIABLE_NAME                                                                 \n",
       "GReal_TG_TRGC_E_DC_m       0       0       0       0       0       0       0  \n",
       "\n",
       "[1 rows x 28 columns]"
      ]
     },
     "execution_count": 6,
     "metadata": {},
     "output_type": "execute_result"
    }
   ],
   "source": []
  },
  {
   "cell_type": "code",
   "execution_count": 18,
   "metadata": {},
   "outputs": [],
   "source": [
    "for i in range(len(dfs)):\n",
    "    if dfs[0].VAL002.values != 0:\n",
    "        dfs[0].T.iloc[4::].sum().T\n"
   ]
  },
  {
   "attachments": {},
   "cell_type": "markdown",
   "metadata": {},
   "source": [
    "# PUNTO 1"
   ]
  },
  {
   "cell_type": "code",
   "execution_count": null,
   "metadata": {},
   "outputs": [],
   "source": []
  },
  {
   "attachments": {},
   "cell_type": "markdown",
   "metadata": {},
   "source": [
    "# PUNTO 2"
   ]
  },
  {
   "cell_type": "code",
   "execution_count": null,
   "metadata": {},
   "outputs": [],
   "source": []
  },
  {
   "attachments": {},
   "cell_type": "markdown",
   "metadata": {},
   "source": [
    "# PUNTO 3"
   ]
  },
  {
   "cell_type": "code",
   "execution_count": null,
   "metadata": {},
   "outputs": [],
   "source": []
  },
  {
   "attachments": {},
   "cell_type": "markdown",
   "metadata": {},
   "source": [
    "# PUNTO 4"
   ]
  },
  {
   "cell_type": "code",
   "execution_count": null,
   "metadata": {},
   "outputs": [],
   "source": []
  },
  {
   "attachments": {},
   "cell_type": "markdown",
   "metadata": {},
   "source": [
    "# PUNTO 5"
   ]
  },
  {
   "cell_type": "code",
   "execution_count": null,
   "metadata": {},
   "outputs": [],
   "source": []
  }
 ],
 "metadata": {
  "kernelspec": {
   "display_name": "xm_env",
   "language": "python",
   "name": "python3"
  },
  "language_info": {
   "codemirror_mode": {
    "name": "ipython",
    "version": 3
   },
   "file_extension": ".py",
   "mimetype": "text/x-python",
   "name": "python",
   "nbconvert_exporter": "python",
   "pygments_lexer": "ipython3",
   "version": "3.11.0"
  },
  "orig_nbformat": 4
 },
 "nbformat": 4,
 "nbformat_minor": 2
}
